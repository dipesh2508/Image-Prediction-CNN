{
  "cells": [
    {
      "cell_type": "code",
      "execution_count": null,
      "metadata": {
        "id": "ulQW1OQxf-4C"
      },
      "outputs": [],
      "source": [
        "import tensorflow as tf\n",
        "from tensorflow.keras.models import Sequential\n",
        "from tensorflow.keras.layers import Conv2D, MaxPooling2D, Flatten, Dense, Dropout\n",
        "from tensorflow.keras.preprocessing import image\n",
        "import numpy as np"
      ]
    },
    {
      "cell_type": "code",
      "execution_count": null,
      "metadata": {
        "id": "ow4caFguiq76"
      },
      "outputs": [],
      "source": [
        "cifar10 = tf.keras.datasets.cifar10\n",
        "(x_train, y_train), (x_test, y_test) = cifar10.load_data()\n",
        "x_train, x_test = x_train/255.0, x_test/255.0"
      ]
    },
    {
      "cell_type": "code",
      "execution_count": null,
      "metadata": {
        "id": "6lzkNEhqkCJB"
      },
      "outputs": [],
      "source": [
        "model = Sequential([\n",
        "                    Conv2D(32, (3,3), activation='relu', input_shape=(32, 32, 3)),\n",
        "                    MaxPooling2D(2,2),\n",
        "                    Conv2D(64, (3,3), activation='relu'),\n",
        "                    MaxPooling2D(2,2),\n",
        "                    Flatten(),\n",
        "                    Dense(64, activation='relu'),\n",
        "                    Dense(10, activation='softmax')\n",
        "        ])"
      ]
    },
    {
      "cell_type": "code",
      "execution_count": null,
      "metadata": {
        "id": "5tQwTaUdnEYC"
      },
      "outputs": [],
      "source": [
        "model.compile(optimizer='adam', loss='sparse_categorical_crossentropy', metrics = ['accuracy'])"
      ]
    },
    {
      "cell_type": "code",
      "execution_count": null,
      "metadata": {
        "id": "MBbwGVd1oQfl"
      },
      "outputs": [],
      "source": [
        "model.fit(x_train, y_train, epochs=15, validation_split=0.2)"
      ]
    },
    {
      "cell_type": "code",
      "execution_count": null,
      "metadata": {
        "id": "23Ocwt9mu1L7"
      },
      "outputs": [],
      "source": [
        "test_loss, test_acc= model.evaluate(x_test, y_test)\n",
        "print(\"The Accuracy is\", + test_acc)"
      ]
    },
    {
      "cell_type": "code",
      "source": [
        "path ='/content/medhak.jpeg'\n",
        "img = image.load_img(path, target_size=(32,32))\n",
        "\n",
        "img_array = image.img_to_array(img)\n",
        "img_array = tf.expand_dims(img_array, 0)\n",
        "img_array/=255.0\n",
        "\n",
        "prediction = model.predict(img_array)\n",
        "pred_class = np.argmax(prediction, axis=1)\n",
        "\n",
        "p = \" \".join(map(str, pred_class.tolist()))\n",
        "\n",
        "if p=='0':\n",
        "  print(\"Airplane\")\n",
        "elif p=='1':\n",
        "  print(\"Automobile\")\n",
        "elif p=='2':\n",
        "  print(\"Bird\")\n",
        "elif p=='3':\n",
        "  print(\"Cat\")\n",
        "elif p=='4':\n",
        "  print(\"Deer\")\n",
        "elif p=='5':\n",
        "  print(\"Dog\")\n",
        "elif p=='6':\n",
        "  print(\"Frog\")\n",
        "elif p=='7':\n",
        "  print(\"Horse\")\n",
        "elif p=='8':\n",
        "  print(\"Ship\")\n",
        "elif p=='9':\n",
        "  print(\"Truck\")\n",
        "else:\n",
        "  print(\"Class not found\")"
      ],
      "metadata": {
        "id": "JkT9gkc3pxF7"
      },
      "execution_count": null,
      "outputs": []
    }
  ],
  "metadata": {
    "colab": {
      "provenance": []
    },
    "kernelspec": {
      "display_name": "Python 3",
      "name": "python3"
    },
    "language_info": {
      "name": "python"
    }
  },
  "nbformat": 4,
  "nbformat_minor": 0
}